{
 "cells": [
  {
   "cell_type": "markdown",
   "metadata": {},
   "source": [
    "## Observations and Insights "
   ]
  },
  {
   "cell_type": "markdown",
   "metadata": {},
   "source": []
  },
  {
   "cell_type": "code",
   "execution_count": 49,
   "metadata": {},
   "outputs": [
    {
     "name": "stdout",
     "output_type": "stream",
     "text": [
      "C1: There is almost an equal amount of male and female mice in the studies\n",
      "C2: For any given mice given the drug Capomulin, you can expect their Average Tumor Size to follow the equation y=0.95x + 21.55 where x is Weight in Grams and y is Tumor Size (mm3)\n",
      "C3: Of the regimens Capomulin, Ramicane, Infubinol and Ceftamin, Infubinol has the highest upper bound in terms of Tumor Volume size (mm3)\n"
     ]
    }
   ],
   "source": [
    "conclusion1 = 'C1: There is almost an equal amount of male and female mice in the studies'\n",
    "conclusion2 = 'C2: For any given mice given the drug Capomulin, you can expect their Average Tumor Size to follow the equation y=0.95x + 21.55 where x is Weight in Grams and y is Tumor Size (mm3)'\n",
    "conclusion3 = 'C3: Of the regimens Capomulin, Ramicane, Infubinol and Ceftamin, Infubinol has the highest upper bound in terms of Tumor Volume size (mm3)'\n",
    "\n",
    "print(conclusion1)\n",
    "print(conclusion2)\n",
    "print(conclusion3)\n"
   ]
  },
  {
   "cell_type": "code",
   "execution_count": 50,
   "metadata": {},
   "outputs": [
    {
     "data": {
      "text/html": [
       "<div>\n",
       "<style scoped>\n",
       "    .dataframe tbody tr th:only-of-type {\n",
       "        vertical-align: middle;\n",
       "    }\n",
       "\n",
       "    .dataframe tbody tr th {\n",
       "        vertical-align: top;\n",
       "    }\n",
       "\n",
       "    .dataframe thead th {\n",
       "        text-align: right;\n",
       "    }\n",
       "</style>\n",
       "<table border=\"1\" class=\"dataframe\">\n",
       "  <thead>\n",
       "    <tr style=\"text-align: right;\">\n",
       "      <th></th>\n",
       "      <th>Mouse ID</th>\n",
       "      <th>Drug Regimen</th>\n",
       "      <th>Sex</th>\n",
       "      <th>Age_months</th>\n",
       "      <th>Weight (g)</th>\n",
       "      <th>Timepoint</th>\n",
       "      <th>Tumor Volume (mm3)</th>\n",
       "      <th>Metastatic Sites</th>\n",
       "    </tr>\n",
       "  </thead>\n",
       "  <tbody>\n",
       "    <tr>\n",
       "      <th>0</th>\n",
       "      <td>k403</td>\n",
       "      <td>Ramicane</td>\n",
       "      <td>Male</td>\n",
       "      <td>21</td>\n",
       "      <td>16</td>\n",
       "      <td>0</td>\n",
       "      <td>45.000000</td>\n",
       "      <td>0</td>\n",
       "    </tr>\n",
       "    <tr>\n",
       "      <th>1</th>\n",
       "      <td>k403</td>\n",
       "      <td>Ramicane</td>\n",
       "      <td>Male</td>\n",
       "      <td>21</td>\n",
       "      <td>16</td>\n",
       "      <td>5</td>\n",
       "      <td>38.825898</td>\n",
       "      <td>0</td>\n",
       "    </tr>\n",
       "    <tr>\n",
       "      <th>2</th>\n",
       "      <td>k403</td>\n",
       "      <td>Ramicane</td>\n",
       "      <td>Male</td>\n",
       "      <td>21</td>\n",
       "      <td>16</td>\n",
       "      <td>10</td>\n",
       "      <td>35.014271</td>\n",
       "      <td>1</td>\n",
       "    </tr>\n",
       "    <tr>\n",
       "      <th>3</th>\n",
       "      <td>k403</td>\n",
       "      <td>Ramicane</td>\n",
       "      <td>Male</td>\n",
       "      <td>21</td>\n",
       "      <td>16</td>\n",
       "      <td>15</td>\n",
       "      <td>34.223992</td>\n",
       "      <td>1</td>\n",
       "    </tr>\n",
       "    <tr>\n",
       "      <th>4</th>\n",
       "      <td>k403</td>\n",
       "      <td>Ramicane</td>\n",
       "      <td>Male</td>\n",
       "      <td>21</td>\n",
       "      <td>16</td>\n",
       "      <td>20</td>\n",
       "      <td>32.997729</td>\n",
       "      <td>1</td>\n",
       "    </tr>\n",
       "    <tr>\n",
       "      <th>...</th>\n",
       "      <td>...</td>\n",
       "      <td>...</td>\n",
       "      <td>...</td>\n",
       "      <td>...</td>\n",
       "      <td>...</td>\n",
       "      <td>...</td>\n",
       "      <td>...</td>\n",
       "      <td>...</td>\n",
       "    </tr>\n",
       "    <tr>\n",
       "      <th>1883</th>\n",
       "      <td>z969</td>\n",
       "      <td>Naftisol</td>\n",
       "      <td>Male</td>\n",
       "      <td>9</td>\n",
       "      <td>30</td>\n",
       "      <td>25</td>\n",
       "      <td>63.145652</td>\n",
       "      <td>2</td>\n",
       "    </tr>\n",
       "    <tr>\n",
       "      <th>1884</th>\n",
       "      <td>z969</td>\n",
       "      <td>Naftisol</td>\n",
       "      <td>Male</td>\n",
       "      <td>9</td>\n",
       "      <td>30</td>\n",
       "      <td>30</td>\n",
       "      <td>65.841013</td>\n",
       "      <td>3</td>\n",
       "    </tr>\n",
       "    <tr>\n",
       "      <th>1885</th>\n",
       "      <td>z969</td>\n",
       "      <td>Naftisol</td>\n",
       "      <td>Male</td>\n",
       "      <td>9</td>\n",
       "      <td>30</td>\n",
       "      <td>35</td>\n",
       "      <td>69.176246</td>\n",
       "      <td>4</td>\n",
       "    </tr>\n",
       "    <tr>\n",
       "      <th>1886</th>\n",
       "      <td>z969</td>\n",
       "      <td>Naftisol</td>\n",
       "      <td>Male</td>\n",
       "      <td>9</td>\n",
       "      <td>30</td>\n",
       "      <td>40</td>\n",
       "      <td>70.314904</td>\n",
       "      <td>4</td>\n",
       "    </tr>\n",
       "    <tr>\n",
       "      <th>1887</th>\n",
       "      <td>z969</td>\n",
       "      <td>Naftisol</td>\n",
       "      <td>Male</td>\n",
       "      <td>9</td>\n",
       "      <td>30</td>\n",
       "      <td>45</td>\n",
       "      <td>73.867845</td>\n",
       "      <td>4</td>\n",
       "    </tr>\n",
       "  </tbody>\n",
       "</table>\n",
       "<p>1888 rows × 8 columns</p>\n",
       "</div>"
      ],
      "text/plain": [
       "     Mouse ID Drug Regimen   Sex  Age_months  Weight (g)  Timepoint  \\\n",
       "0        k403     Ramicane  Male          21          16          0   \n",
       "1        k403     Ramicane  Male          21          16          5   \n",
       "2        k403     Ramicane  Male          21          16         10   \n",
       "3        k403     Ramicane  Male          21          16         15   \n",
       "4        k403     Ramicane  Male          21          16         20   \n",
       "...       ...          ...   ...         ...         ...        ...   \n",
       "1883     z969     Naftisol  Male           9          30         25   \n",
       "1884     z969     Naftisol  Male           9          30         30   \n",
       "1885     z969     Naftisol  Male           9          30         35   \n",
       "1886     z969     Naftisol  Male           9          30         40   \n",
       "1887     z969     Naftisol  Male           9          30         45   \n",
       "\n",
       "      Tumor Volume (mm3)  Metastatic Sites  \n",
       "0              45.000000                 0  \n",
       "1              38.825898                 0  \n",
       "2              35.014271                 1  \n",
       "3              34.223992                 1  \n",
       "4              32.997729                 1  \n",
       "...                  ...               ...  \n",
       "1883           63.145652                 2  \n",
       "1884           65.841013                 3  \n",
       "1885           69.176246                 4  \n",
       "1886           70.314904                 4  \n",
       "1887           73.867845                 4  \n",
       "\n",
       "[1888 rows x 8 columns]"
      ]
     },
     "execution_count": 50,
     "metadata": {},
     "output_type": "execute_result"
    }
   ],
   "source": [
    "%matplotlib inline\n",
    "# Dependencies and Setup\n",
    "import matplotlib.pyplot as plt\n",
    "import pandas as pd\n",
    "import scipy.stats as st\n",
    "import numpy as np\n",
    "from scipy.stats import linregress\n",
    "\n",
    "# Study data files\n",
    "mouse_metadata_path = \"data/Mouse_metadata.csv\"\n",
    "study_results_path = \"data/Study_results.csv\"\n",
    "\n",
    "# Read the mouse data and the study results\n",
    "mouse_metadata = pd.read_csv(mouse_metadata_path)\n",
    "study_results = pd.read_csv(study_results_path)\n",
    "\n",
    "# Combine the data into a single dataset\n",
    "mouse_metadata_df = pd.DataFrame(mouse_metadata)\n",
    "study_results_df = pd.DataFrame(study_results)\n",
    "\n",
    "study_results_nd_df = study_results_df.drop_duplicates(subset = ['Mouse ID', 'Timepoint'])\n",
    "study_results_nd_df\n",
    "\n",
    "merge_df = pd.merge(mouse_metadata_df, study_results_nd_df, on='Mouse ID')\n",
    "merge_df\n",
    "\n",
    "# Display the data table for preview\n",
    "\n",
    "\n"
   ]
  },
  {
   "cell_type": "code",
   "execution_count": 2,
   "metadata": {},
   "outputs": [],
   "source": [
    "# Checking the number of mice.\n"
   ]
  },
  {
   "cell_type": "code",
   "execution_count": 3,
   "metadata": {},
   "outputs": [],
   "source": [
    "# Getting the duplicate mice by ID number that shows up for Mouse ID and Timepoint. \n",
    "\n"
   ]
  },
  {
   "cell_type": "code",
   "execution_count": 4,
   "metadata": {},
   "outputs": [],
   "source": [
    "# Optional: Get all the data for the duplicate mouse ID. \n",
    "\n"
   ]
  },
  {
   "cell_type": "code",
   "execution_count": 5,
   "metadata": {},
   "outputs": [],
   "source": [
    "# Create a clean DataFrame by dropping the duplicate mouse by its ID.\n"
   ]
  },
  {
   "cell_type": "code",
   "execution_count": 6,
   "metadata": {},
   "outputs": [],
   "source": [
    "# Checking the number of mice in the clean DataFrame.\n"
   ]
  },
  {
   "cell_type": "markdown",
   "metadata": {},
   "source": [
    "## Summary Statistics"
   ]
  },
  {
   "cell_type": "code",
   "execution_count": 7,
   "metadata": {},
   "outputs": [
    {
     "data": {
      "text/html": [
       "<div>\n",
       "<style scoped>\n",
       "    .dataframe tbody tr th:only-of-type {\n",
       "        vertical-align: middle;\n",
       "    }\n",
       "\n",
       "    .dataframe tbody tr th {\n",
       "        vertical-align: top;\n",
       "    }\n",
       "\n",
       "    .dataframe thead th {\n",
       "        text-align: right;\n",
       "    }\n",
       "</style>\n",
       "<table border=\"1\" class=\"dataframe\">\n",
       "  <thead>\n",
       "    <tr style=\"text-align: right;\">\n",
       "      <th></th>\n",
       "      <th>Mean Size</th>\n",
       "      <th>Median Size</th>\n",
       "      <th>Variance</th>\n",
       "      <th>Std Dev</th>\n",
       "      <th>Std Err</th>\n",
       "    </tr>\n",
       "    <tr>\n",
       "      <th>Drug Regimen</th>\n",
       "      <th></th>\n",
       "      <th></th>\n",
       "      <th></th>\n",
       "      <th></th>\n",
       "      <th></th>\n",
       "    </tr>\n",
       "  </thead>\n",
       "  <tbody>\n",
       "    <tr>\n",
       "      <th>Capomulin</th>\n",
       "      <td>40.675741</td>\n",
       "      <td>41.557809</td>\n",
       "      <td>24.947764</td>\n",
       "      <td>4.994774</td>\n",
       "      <td>0.329346</td>\n",
       "    </tr>\n",
       "    <tr>\n",
       "      <th>Ceftamin</th>\n",
       "      <td>52.591172</td>\n",
       "      <td>51.776157</td>\n",
       "      <td>39.290177</td>\n",
       "      <td>6.268188</td>\n",
       "      <td>0.469821</td>\n",
       "    </tr>\n",
       "    <tr>\n",
       "      <th>Infubinol</th>\n",
       "      <td>52.884795</td>\n",
       "      <td>51.820584</td>\n",
       "      <td>43.128684</td>\n",
       "      <td>6.567243</td>\n",
       "      <td>0.492236</td>\n",
       "    </tr>\n",
       "    <tr>\n",
       "      <th>Ketapril</th>\n",
       "      <td>55.235638</td>\n",
       "      <td>53.698743</td>\n",
       "      <td>68.553577</td>\n",
       "      <td>8.279709</td>\n",
       "      <td>0.603860</td>\n",
       "    </tr>\n",
       "    <tr>\n",
       "      <th>Naftisol</th>\n",
       "      <td>54.331565</td>\n",
       "      <td>52.509285</td>\n",
       "      <td>66.173479</td>\n",
       "      <td>8.134708</td>\n",
       "      <td>0.596466</td>\n",
       "    </tr>\n",
       "    <tr>\n",
       "      <th>Placebo</th>\n",
       "      <td>54.033581</td>\n",
       "      <td>52.288934</td>\n",
       "      <td>61.168083</td>\n",
       "      <td>7.821003</td>\n",
       "      <td>0.581331</td>\n",
       "    </tr>\n",
       "    <tr>\n",
       "      <th>Propriva</th>\n",
       "      <td>52.393463</td>\n",
       "      <td>50.909965</td>\n",
       "      <td>43.138803</td>\n",
       "      <td>6.568014</td>\n",
       "      <td>0.525862</td>\n",
       "    </tr>\n",
       "    <tr>\n",
       "      <th>Ramicane</th>\n",
       "      <td>40.216745</td>\n",
       "      <td>40.673236</td>\n",
       "      <td>23.486704</td>\n",
       "      <td>4.846308</td>\n",
       "      <td>0.320955</td>\n",
       "    </tr>\n",
       "    <tr>\n",
       "      <th>Stelasyn</th>\n",
       "      <td>54.233149</td>\n",
       "      <td>52.431737</td>\n",
       "      <td>59.450562</td>\n",
       "      <td>7.710419</td>\n",
       "      <td>0.573111</td>\n",
       "    </tr>\n",
       "    <tr>\n",
       "      <th>Zoniferol</th>\n",
       "      <td>53.236507</td>\n",
       "      <td>51.818479</td>\n",
       "      <td>48.533355</td>\n",
       "      <td>6.966589</td>\n",
       "      <td>0.516398</td>\n",
       "    </tr>\n",
       "  </tbody>\n",
       "</table>\n",
       "</div>"
      ],
      "text/plain": [
       "              Mean Size  Median Size   Variance   Std Dev   Std Err\n",
       "Drug Regimen                                                       \n",
       "Capomulin     40.675741    41.557809  24.947764  4.994774  0.329346\n",
       "Ceftamin      52.591172    51.776157  39.290177  6.268188  0.469821\n",
       "Infubinol     52.884795    51.820584  43.128684  6.567243  0.492236\n",
       "Ketapril      55.235638    53.698743  68.553577  8.279709  0.603860\n",
       "Naftisol      54.331565    52.509285  66.173479  8.134708  0.596466\n",
       "Placebo       54.033581    52.288934  61.168083  7.821003  0.581331\n",
       "Propriva      52.393463    50.909965  43.138803  6.568014  0.525862\n",
       "Ramicane      40.216745    40.673236  23.486704  4.846308  0.320955\n",
       "Stelasyn      54.233149    52.431737  59.450562  7.710419  0.573111\n",
       "Zoniferol     53.236507    51.818479  48.533355  6.966589  0.516398"
      ]
     },
     "execution_count": 7,
     "metadata": {},
     "output_type": "execute_result"
    }
   ],
   "source": [
    "# Generate a summary statistics table of mean, median, variance, standard deviation, and SEM of the tumor volume for each regimen\n",
    "merge_df\n",
    "drug_r_df = merge_df.groupby('Drug Regimen')\n",
    "Tumor_Mean = drug_r_df['Tumor Volume (mm3)'].mean()\n",
    "Tumor_Median = drug_r_df['Tumor Volume (mm3)'].median()\n",
    "Tumor_Variance = drug_r_df['Tumor Volume (mm3)'].var()\n",
    "Tumor_Std_Dev = drug_r_df['Tumor Volume (mm3)'].std()\n",
    "Tumor_SEM = drug_r_df['Tumor Volume (mm3)'].sem()\n",
    "\n",
    "\n",
    "\n",
    "drug_r_summary_df = pd.DataFrame({\"Mean Size\": Tumor_Mean,\n",
    "                                  \"Median Size\": Tumor_Median,\n",
    "                                  \"Variance\": Tumor_Variance,\n",
    "                                  \"Std Dev\": Tumor_Std_Dev,\n",
    "                                  \"Std Err\": Tumor_SEM \n",
    "                                   })\n",
    "\n",
    "drug_r_summary_df\n",
    "\n",
    "\n",
    "\n",
    "# This method is the most straighforward, creating multiple series and putting them all together at the end.\n",
    "\n"
   ]
  },
  {
   "cell_type": "code",
   "execution_count": 8,
   "metadata": {},
   "outputs": [],
   "source": [
    "# Generate a summary statistics table of mean, median, variance, standard deviation, and SEM of the tumor volume for each regimen\n",
    "\n",
    "# This method produces everything in a single groupby function\n"
   ]
  },
  {
   "cell_type": "markdown",
   "metadata": {},
   "source": [
    "## Bar and Pie Charts"
   ]
  },
  {
   "cell_type": "code",
   "execution_count": 62,
   "metadata": {},
   "outputs": [
    {
     "data": {
      "text/plain": [
       "Text(0, 0.5, 'Number of Mice')"
      ]
     },
     "execution_count": 62,
     "metadata": {},
     "output_type": "execute_result"
    },
    {
     "data": {
      "image/png": "[encoded data removed]",
      "text/plain": [
       "<Figure size 432x288 with 1 Axes>"
      ]
     },
     "metadata": {
      "needs_background": "light"
     },
     "output_type": "display_data"
    }
   ],
   "source": [
    "# Generate a bar plot showing the total number of mice for each treatment throughout the course of the study using pandas. \n",
    "drug_time_df = merge_df.groupby(['Drug Regimen', 'Timepoint'])\n",
    "drug_time_df.count()\n",
    "number_of_mice = drug_time_df['Mouse ID'].count()\n",
    "new_dfd = pd.DataFrame({'Mouse Count': number_of_mice})\n",
    "new_dfd_plot = new_dfd.plot(kind='bar', title='Number of Mice over Time for every treatment')\n",
    "new_dfd_plot.set_xlabel('Drug & Timepoint')\n",
    "new_dfd_plot.set_ylabel('Number of Mice')\n",
    "\n",
    "#df = pd.DataFrame(number_of_mice)\n",
    "#df.plot(kind='bar')\n",
    "\n",
    "\n",
    "\n",
    "\n",
    "\n",
    "\n",
    "\n",
    "\n",
    "\n",
    "\n",
    "    \n"
   ]
  },
  {
   "cell_type": "code",
   "execution_count": null,
   "metadata": {},
   "outputs": [],
   "source": []
  },
  {
   "cell_type": "code",
   "execution_count": 99,
   "metadata": {},
   "outputs": [
    {
     "name": "stdout",
     "output_type": "stream",
     "text": [
      "Couldnt figure out code to plot this on Matplotlib\n"
     ]
    }
   ],
   "source": [
    "#tyy = new_dfd[['Mouse Count']]\n",
    "#tyy\n",
    "\n",
    "print('Couldnt figure out code to plot this on Matplotlib')\n",
    "#plt.bar(x = new_dfd[, height = new_dfd['Mouse Count'])"
   ]
  },
  {
   "cell_type": "code",
   "execution_count": 100,
   "metadata": {},
   "outputs": [
    {
     "data": {
      "text/plain": [
       "<matplotlib.axes._subplots.AxesSubplot at 0x7fe2f6242220>"
      ]
     },
     "execution_count": 100,
     "metadata": {},
     "output_type": "execute_result"
    },
    {
     "data": {
      "image/png": "[encoded data removed]",
      "text/plain": [
       "<Figure size 432x288 with 1 Axes>"
      ]
     },
     "metadata": {},
     "output_type": "display_data"
    }
   ],
   "source": [
    "# Generate a pie plot showing the distribution of female versus male mice using pandas\n",
    "Mice_info_df = merge_df.drop_duplicates(subset = 'Mouse ID')\n",
    "Number_Male = Mice_info_df[Mice_info_df['Sex']=='Male'].count()\n",
    "Number_Female = Mice_info_df[Mice_info_df['Sex']=='Female'].count()\n",
    "Number_Male = Number_Male['Sex']\n",
    "Number_Female = Number_Female['Sex']\n",
    "\n",
    "\n",
    "Number_Each_Sex = Mice_info_df['Sex'].value_counts()\n",
    "\n",
    "#Combined_MF_df = pd.DataFrame({'Male': Number_Male,\n",
    "                               #'Female': Number_Female\n",
    "                              #})\n",
    "#Combined_MF_df\n",
    "#Combined_MF_df.plot(kind='pie')\n",
    "Number_Each_Sex.plot(kind = 'pie', title = 'Gender Distribution of Mice (M/F)', startangle=90, labels = ['Male', 'Female'],autopct='%1.1f%%' )\n",
    "\n",
    "\n"
   ]
  },
  {
   "cell_type": "code",
   "execution_count": 101,
   "metadata": {},
   "outputs": [
    {
     "data": {
      "text/plain": [
       "Text(0.5, 1.0, 'Gender Distribution Among Mice')"
      ]
     },
     "execution_count": 101,
     "metadata": {},
     "output_type": "execute_result"
    },
    {
     "data": {
      "image/png": "[encoded data removed]",
      "text/plain": [
       "<Figure size 432x288 with 1 Axes>"
      ]
     },
     "metadata": {},
     "output_type": "display_data"
    }
   ],
   "source": [
    "# Generate a pie plot showing the distribution of female versus male mice using pyplot\n",
    "labels = ['Male', 'Female']\n",
    "\n",
    "sizes = [Number_Male, Number_Female]\n",
    "    \n",
    "plt.pie(sizes, labels = labels, autopct='%1.1f%%',startangle=90)\n",
    "plt.title('Gender Distribution Among Mice')\n"
   ]
  },
  {
   "cell_type": "markdown",
   "metadata": {},
   "source": [
    "## Quartiles, Outliers and Boxplots"
   ]
  },
  {
   "cell_type": "code",
   "execution_count": 102,
   "metadata": {},
   "outputs": [
    {
     "data": {
      "text/html": [
       "<div>\n",
       "<style scoped>\n",
       "    .dataframe tbody tr th:only-of-type {\n",
       "        vertical-align: middle;\n",
       "    }\n",
       "\n",
       "    .dataframe tbody tr th {\n",
       "        vertical-align: top;\n",
       "    }\n",
       "\n",
       "    .dataframe thead th {\n",
       "        text-align: right;\n",
       "    }\n",
       "</style>\n",
       "<table border=\"1\" class=\"dataframe\">\n",
       "  <thead>\n",
       "    <tr style=\"text-align: right;\">\n",
       "      <th></th>\n",
       "      <th></th>\n",
       "      <th>Tumor Volume Final</th>\n",
       "    </tr>\n",
       "    <tr>\n",
       "      <th>Drug Regimen</th>\n",
       "      <th>Mouse ID</th>\n",
       "      <th></th>\n",
       "    </tr>\n",
       "  </thead>\n",
       "  <tbody>\n",
       "    <tr>\n",
       "      <th rowspan=\"5\" valign=\"top\">Capomulin</th>\n",
       "      <th>b128</th>\n",
       "      <td>38.982878</td>\n",
       "    </tr>\n",
       "    <tr>\n",
       "      <th>b742</th>\n",
       "      <td>38.939633</td>\n",
       "    </tr>\n",
       "    <tr>\n",
       "      <th>f966</th>\n",
       "      <td>30.485985</td>\n",
       "    </tr>\n",
       "    <tr>\n",
       "      <th>g288</th>\n",
       "      <td>37.074024</td>\n",
       "    </tr>\n",
       "    <tr>\n",
       "      <th>g316</th>\n",
       "      <td>40.159220</td>\n",
       "    </tr>\n",
       "    <tr>\n",
       "      <th>...</th>\n",
       "      <th>...</th>\n",
       "      <td>...</td>\n",
       "    </tr>\n",
       "    <tr>\n",
       "      <th rowspan=\"5\" valign=\"top\">Ramicane</th>\n",
       "      <th>s508</th>\n",
       "      <td>30.276232</td>\n",
       "    </tr>\n",
       "    <tr>\n",
       "      <th>u196</th>\n",
       "      <td>40.667713</td>\n",
       "    </tr>\n",
       "    <tr>\n",
       "      <th>w678</th>\n",
       "      <td>43.166373</td>\n",
       "    </tr>\n",
       "    <tr>\n",
       "      <th>y449</th>\n",
       "      <td>44.183451</td>\n",
       "    </tr>\n",
       "    <tr>\n",
       "      <th>z578</th>\n",
       "      <td>30.638696</td>\n",
       "    </tr>\n",
       "  </tbody>\n",
       "</table>\n",
       "<p>100 rows × 1 columns</p>\n",
       "</div>"
      ],
      "text/plain": [
       "                       Tumor Volume Final\n",
       "Drug Regimen Mouse ID                    \n",
       "Capomulin    b128               38.982878\n",
       "             b742               38.939633\n",
       "             f966               30.485985\n",
       "             g288               37.074024\n",
       "             g316               40.159220\n",
       "...                                   ...\n",
       "Ramicane     s508               30.276232\n",
       "             u196               40.667713\n",
       "             w678               43.166373\n",
       "             y449               44.183451\n",
       "             z578               30.638696\n",
       "\n",
       "[100 rows x 1 columns]"
      ]
     },
     "execution_count": 102,
     "metadata": {},
     "output_type": "execute_result"
    }
   ],
   "source": [
    "# Calculate the final tumor volume of each mouse across four of the treatment regimens:  \n",
    "merge_df\n",
    "\n",
    "Fin_Tum_Vol_df = merge_df.groupby(['Drug Regimen', 'Mouse ID'])\n",
    "Fin_Tum_Vol_df.count()\n",
    "Tumor_Volume_Final = Fin_Tum_Vol_df['Tumor Volume (mm3)'].last()\n",
    "\n",
    "Tumor_Volume_Final_df = pd.DataFrame({'Tumor Volume Final': Tumor_Volume_Final})\n",
    "\n",
    "\n",
    "Tumor_Volume_Final_filtered_df = Tumor_Volume_Final_df.loc[['Capomulin','Ramicane','Infubinol','Ceftamin']]\n",
    "\n",
    "Tumor_Volume_Final_filtered_df\n",
    "# Capomulin, Ramicane, Infubinol, and Ceftamin\n",
    "\n",
    "# Start by getting the last (greatest) timepoint for each mouse\n",
    "\n",
    "# Merge this group df with the original dataframe to get the tumor volume at the last timepoint\n"
   ]
  },
  {
   "cell_type": "code",
   "execution_count": 103,
   "metadata": {},
   "outputs": [
    {
     "name": "stdout",
     "output_type": "stream",
     "text": [
      "Empty DataFrame\n",
      "Columns: [Tumor Volume Final]\n",
      "Index: []\n",
      "Empty DataFrame\n",
      "Columns: [Tumor Volume Final]\n",
      "Index: []\n",
      "          Tumor Volume Final\n",
      "Mouse ID                    \n",
      "c326               36.321346\n",
      "Empty DataFrame\n",
      "Columns: [Tumor Volume Final]\n",
      "Index: []\n"
     ]
    }
   ],
   "source": [
    "# Put treatments into a list for for loop (and later for plot labels)\n",
    "#quartiles = Tumor_Volume_Final_filtered_df['Tumor Volume Final'].quantile([.25,.5,.75])\n",
    "#lowerq = quartiles[0.25]\n",
    "Tumor_Volume_Final_filtered_df\n",
    "Treatments = ['Capomulin','Ramicane','Infubinol','Ceftamin']\n",
    "Q1 = []\n",
    "Q3 = []\n",
    "IQR = []\n",
    "Outliers_L = []\n",
    "lower_bounds = []\n",
    "upper_bounds = []\n",
    "\n",
    "\n",
    "# Create empty list to fill with tumor vol data (for plotting)\n",
    "#california_data['AveOccup'].quantile([.25,.5,.75])\n",
    "\n",
    "for treatment in Treatments:\n",
    "    filtered = Tumor_Volume_Final_filtered_df.loc[treatment]\n",
    "    quartiles = filtered.quantile([0.25, 0.5, 0.75])\n",
    "    lowerq = quartiles['Tumor Volume Final'].min()\n",
    "    upperq = quartiles['Tumor Volume Final'].max()\n",
    "    iqr = upperq - lowerq\n",
    "    lower_bound = lowerq - (1.5*iqr)\n",
    "    upper_bound = upperq + (1.5*iqr)\n",
    "    Q1.append(lowerq)\n",
    "    Q3.append(upperq)\n",
    "    IQR.append(iqr)\n",
    "    lower_bounds.append(lower_bound)\n",
    "    upper_bounds.append(upper_bound)\n",
    "    outliers = filtered.loc[(filtered['Tumor Volume Final'] < lower_bound) | (filtered['Tumor Volume Final'] > upper_bound)]\n",
    "    print(outliers)\n",
    "    \n",
    "\n",
    "# Calculate the IQR and quantitatively determine if there are any potential outliers. \n",
    "\n",
    "    \n",
    "    # Locate the rows which contain mice on each drug and get the tumor volumes\n",
    "    \n",
    "    \n",
    "    # add subset \n",
    "    \n",
    "    \n",
    "    # Determine outliers using upper and lower bounds\n",
    "    "
   ]
  },
  {
   "cell_type": "code",
   "execution_count": 104,
   "metadata": {},
   "outputs": [
    {
     "data": {
      "text/plain": [
       "Text(0.5, 0, 'Drug Regimen')"
      ]
     },
     "execution_count": 104,
     "metadata": {},
     "output_type": "execute_result"
    },
    {
     "data": {
      "image/png": "[encoded data removed]",
      "text/plain": [
       "<Figure size 432x288 with 1 Axes>"
      ]
     },
     "metadata": {
      "needs_background": "light"
     },
     "output_type": "display_data"
    }
   ],
   "source": [
    "# Generate a box plot of the final tumor volume of each mouse across four regimens of interest\n",
    "\n",
    "Cap = Tumor_Volume_Final_filtered_df.loc['Capomulin']\n",
    "Ram = Tumor_Volume_Final_filtered_df.loc['Ramicane']\n",
    "Inf = Tumor_Volume_Final_filtered_df.loc['Infubinol']\n",
    "Cef = Tumor_Volume_Final_filtered_df.loc['Ceftamin']\n",
    "\n",
    "\n",
    "plt.boxplot([Cap['Tumor Volume Final'], Ram['Tumor Volume Final'], Inf['Tumor Volume Final'],Cef['Tumor Volume Final']], labels = ['Capomulin', 'Ramicane','Infubinol', 'Ceftamin'])\n",
    "plt.title('Drug Tumor Volumes by Drug')\n",
    "plt.ylabel('Tumor Size (mm3)')\n",
    "plt.xlabel('Drug Regimen')\n",
    "\n",
    "             \n"
   ]
  },
  {
   "cell_type": "markdown",
   "metadata": {},
   "source": [
    "## Line and Scatter Plots"
   ]
  },
  {
   "cell_type": "code",
   "execution_count": 105,
   "metadata": {},
   "outputs": [
    {
     "data": {
      "text/plain": [
       "Text(0.5, 1.0, 'Tumor Size for Mouse b128 (Capomulin)')"
      ]
     },
     "execution_count": 105,
     "metadata": {},
     "output_type": "execute_result"
    },
    {
     "data": {
      "image/png": "[encoded data removed]",
      "text/plain": [
       "<Figure size 432x288 with 1 Axes>"
      ]
     },
     "metadata": {
      "needs_background": "light"
     },
     "output_type": "display_data"
    }
   ],
   "source": [
    "# Generate a line plot of time point versus tumor volume for a mouse treated with Capomulin\n",
    "merge_new = merge_df[['Drug Regimen', 'Mouse ID', 'Timepoint','Tumor Volume (mm3)', 'Weight (g)']]\n",
    "merge_new_4v = merge_new.groupby(['Drug Regimen'])\n",
    "\n",
    "merge_new_4v = merge_new.set_index('Mouse ID')\n",
    "\n",
    "mouse = ['b128']\n",
    "mouse_df = merge_new_4v.loc[mouse]\n",
    "#x_values = mouse_df['Timepoint'].unique()\n",
    "#y_values = mouse_df['Tumor Volume (mm3)'].unique()\n",
    "\n",
    "mouse_df\n",
    "\n",
    "\n",
    "\n",
    "mdp = mouse_df.plot(x = 'Timepoint', y = 'Tumor Volume (mm3)')\n",
    "mdp.set_ylabel('Tumor Size (mm3)')\n",
    "mdp.set_title('Tumor Size for Mouse b128 (Capomulin)')\n",
    "                    \n",
    "\n",
    "\n",
    "\n",
    "\n",
    "\n",
    "\n",
    "\n",
    "\n",
    "\n",
    "\n",
    "\n",
    "\n",
    "\n",
    "\n",
    "\n"
   ]
  },
  {
   "cell_type": "code",
   "execution_count": 106,
   "metadata": {},
   "outputs": [
    {
     "data": {
      "text/plain": [
       "Text(19, 36, 'R-Squared= 0.7088568047708715')"
      ]
     },
     "execution_count": 106,
     "metadata": {},
     "output_type": "execute_result"
    },
    {
     "data": {
      "image/png": "[encoded data removed]",
      "text/plain": [
       "<Figure size 432x288 with 1 Axes>"
      ]
     },
     "metadata": {
      "needs_background": "light"
     },
     "output_type": "display_data"
    }
   ],
   "source": [
    "# Generate a scatter plot of mouse weight versus average tumor volume for the Capomulin regimen\n",
    "n = merge_new.groupby(['Drug Regimen','Mouse ID'])\n",
    "Tumor_size_sum = n['Tumor Volume (mm3)'].sum()\n",
    "Tumor_size_count = n['Tumor Volume (mm3)'].count()\n",
    "Tumor_average = Tumor_size_sum / Tumor_size_count\n",
    "Weight_average = (n['Weight (g)'].sum())/ (n['Weight (g)'].count())\n",
    "\n",
    "tdf = pd.DataFrame({\"Tumor Size Average\": Tumor_average,\n",
    "                    \"Weight\": Weight_average\n",
    "                                   })\n",
    "tdfc = tdf.loc['Capomulin']\n",
    "tdfc\n",
    "\n",
    "plt.scatter(tdfc['Weight'], tdfc['Tumor Size Average'])\n",
    "\n",
    "\n",
    "tdfc.corr()\n",
    "r_coefficient = tdfc['Tumor Size Average'].corr(tdfc['Weight'])\n",
    "r2_value = r_coefficient * r_coefficient\n",
    "#print(f'R-Squared is {r2_value}')\n",
    "\n",
    "x_values = tdfc['Weight']\n",
    "y_values = tdfc['Tumor Size Average']\n",
    "(slope, intercept, rvalue, pvalue, stderr) = linregress(x_values, y_values)\n",
    "regress_values = x_values * slope + intercept\n",
    "line_eq = \"y = \" + str(round(slope,2)) + \"x + \" + str(round(intercept,2))\n",
    "\n",
    "#print(f'Linear Regresssion equation is.....{line_eq}')\n",
    "\n",
    "plt.plot(x_values, regress_values, color= 'r')\n",
    "plt.title('Weight vs Average Tumor Size for Capomulin')\n",
    "plt.xlabel('Weight (g)')\n",
    "plt.ylabel('Timepoint (days)')\n",
    "plt.annotate(line_eq,(19,37),color = 'r')\n",
    "plt.annotate(f'R-Squared= {r2_value}', (19,36), color = 'r')\n",
    "\n",
    "\n",
    "\n",
    "#tdfc.plot(kind = 'scatter', x = 'Weight', y = 'Tumor Size Average')"
   ]
  },
  {
   "cell_type": "markdown",
   "metadata": {},
   "source": [
    "## Correlation and Regression"
   ]
  },
  {
   "cell_type": "code",
   "execution_count": 107,
   "metadata": {},
   "outputs": [],
   "source": [
    "# Calculate the correlation coefficient and linear regression model \n",
    "# for mouse weight and average tumor volume for the Capomulin regimen\n"
   ]
  },
  {
   "cell_type": "code",
   "execution_count": null,
   "metadata": {},
   "outputs": [],
   "source": []
  },
  {
   "cell_type": "code",
   "execution_count": null,
   "metadata": {},
   "outputs": [],
   "source": []
  },
  {
   "cell_type": "code",
   "execution_count": null,
   "metadata": {},
   "outputs": [],
   "source": []
  },
  {
   "cell_type": "code",
   "execution_count": null,
   "metadata": {},
   "outputs": [],
   "source": []
  },
  {
   "cell_type": "code",
   "execution_count": null,
   "metadata": {},
   "outputs": [],
   "source": []
  },
  {
   "cell_type": "code",
   "execution_count": null,
   "metadata": {},
   "outputs": [],
   "source": []
  }
 ],
 "metadata": {
  "anaconda-cloud": {},
  "kernelspec": {
   "display_name": "Python 3",
   "language": "python",
   "name": "python3"
  },
  "language_info": {
   "codemirror_mode": {
    "name": "ipython",
    "version": 3
   },
   "file_extension": ".py",
   "mimetype": "text/x-python",
   "name": "python",
   "nbconvert_exporter": "python",
   "pygments_lexer": "ipython3",
   "version": "3.8.3"
  }
 },
 "nbformat": 4,
 "nbformat_minor": 2
}
